{
 "cells": [
  {
   "cell_type": "markdown",
   "metadata": {},
   "source": [
    "<img src=\"img/dsci513_header2.png\" width=\"600\">"
   ]
  },
  {
   "cell_type": "markdown",
   "metadata": {
    "tags": []
   },
   "source": [
    "# Lab 4: MongoDB query language"
   ]
  },
  {
   "cell_type": "markdown",
   "metadata": {},
   "source": [
    "## Instructions\n",
    "---\n",
    "rubric={mechanics:2}"
   ]
  },
  {
   "cell_type": "markdown",
   "metadata": {},
   "source": [
    "- Follow the [general lab instructions](https://ubc-mds.github.io/resources_pages/general_lab_instructions/)\n",
    "- Make sure to upload a PDF version of your lab notebook to Gradescope, in addition to the `.ipynb` file.\n",
    "- Add a link to your GitHub repository here: https://github.ubc.ca/MDS-2022-23/DSCI_513_lab4_bibianna.git"
   ]
  },
  {
   "cell_type": "markdown",
   "metadata": {},
   "source": [
    "## Getting set up\n",
    "---"
   ]
  },
  {
   "cell_type": "code",
   "execution_count": 1,
   "metadata": {},
   "outputs": [
    {
     "name": "stdout",
     "output_type": "stream",
     "text": [
      "Requirement already satisfied: pymongo in /opt/miniconda3/lib/python3.10/site-packages (4.3.3)\n",
      "Requirement already satisfied: dnspython<3.0.0,>=1.16.0 in /opt/miniconda3/lib/python3.10/site-packages (from pymongo) (2.2.1)\n"
     ]
    }
   ],
   "source": [
    "!pip install pymongo\n",
    "from pymongo import MongoClient\n",
    "import json\n",
    "\n",
    "with open('data/credentials_mongodb.json') as f:\n",
    "    login = json.load(f)\n",
    "\n",
    "client = MongoClient(**login)"
   ]
  },
  {
   "cell_type": "markdown",
   "metadata": {
    "tags": []
   },
   "source": [
    "## Exercise 1: Getting to know your MongoDB databases\n",
    "---"
   ]
  },
  {
   "cell_type": "markdown",
   "metadata": {
    "tags": []
   },
   "source": [
    "### 1.1\n",
    "\n",
    "rubric={accuracy:1}"
   ]
  },
  {
   "cell_type": "markdown",
   "metadata": {},
   "source": [
    "List the databases that exist on your MongoDB Atlas cluster after loading sample databases. You can do this either by checking out the databases using Compass or by using `pymongo`'s `.list_database_names()` method."
   ]
  },
  {
   "cell_type": "code",
   "execution_count": 2,
   "metadata": {
    "tags": []
   },
   "outputs": [
    {
     "data": {
      "text/plain": [
       "['sample_airbnb',\n",
       " 'sample_analytics',\n",
       " 'sample_geospatial',\n",
       " 'sample_guides',\n",
       " 'sample_mflix',\n",
       " 'sample_restaurants',\n",
       " 'sample_supplies',\n",
       " 'sample_training',\n",
       " 'sample_weatherdata',\n",
       " 'admin',\n",
       " 'local']"
      ]
     },
     "execution_count": 2,
     "metadata": {},
     "output_type": "execute_result"
    }
   ],
   "source": [
    "client.list_database_names()"
   ]
  },
  {
   "cell_type": "markdown",
   "metadata": {
    "tags": []
   },
   "source": [
    "### 1.2\n",
    "\n",
    "rubric={accuracy:1}"
   ]
  },
  {
   "cell_type": "markdown",
   "metadata": {},
   "source": [
    "List the collections stored in the `sample_mflix` and `sample_airbnb` databases. You can do this either by checking out the databases using Compass or by using `pymongo`'s `.list_collection_names()` method."
   ]
  },
  {
   "cell_type": "code",
   "execution_count": 3,
   "metadata": {
    "tags": []
   },
   "outputs": [
    {
     "data": {
      "text/plain": [
       "['listingsAndReviews']"
      ]
     },
     "execution_count": 3,
     "metadata": {},
     "output_type": "execute_result"
    }
   ],
   "source": [
    "client['sample_airbnb'].list_collection_names()"
   ]
  },
  {
   "cell_type": "code",
   "execution_count": 4,
   "metadata": {},
   "outputs": [
    {
     "data": {
      "text/plain": [
       "['theaters', 'movies', 'sessions', 'users', 'comments']"
      ]
     },
     "execution_count": 4,
     "metadata": {},
     "output_type": "execute_result"
    }
   ],
   "source": [
    "client['sample_mflix'].list_collection_names()"
   ]
  },
  {
   "cell_type": "markdown",
   "metadata": {
    "tags": []
   },
   "source": [
    "### 1.3\n",
    "\n",
    "rubric={accuracy:2}"
   ]
  },
  {
   "cell_type": "markdown",
   "metadata": {},
   "source": [
    "We would like to create a summary report to get the number of documents in each collection of each database on our cluster. Write a python loop that produces an output similar to the following:\n",
    "\n",
    "```\n",
    "Database: sample_airbnb\n",
    "(collection, n_docs) =  ('listingsAndReviews', 5555)\n",
    "\n",
    "Database: sample_analytics\n",
    "(collection, n_docs) =  ('transactions', 1746)\n",
    "(collection, n_docs) =  ('accounts', 1746)\n",
    "(collection, n_docs) =  ('customers', 500)\n",
    ".\n",
    ".\n",
    ".\n",
    "```\n",
    "\n",
    "In previous questions, you've been introduced to the two methods of `pymongo` which are used to return database and collection names. Moreover, you can use the `.count_documents(filter={}))` method to count all documents in each collection.\n",
    "\n",
    "**Note:** Skip `admin` and `local` databases in your loop."
   ]
  },
  {
   "cell_type": "code",
   "execution_count": 5,
   "metadata": {},
   "outputs": [
    {
     "name": "stdout",
     "output_type": "stream",
     "text": [
      "Database: sample_airbnb\n",
      "(collection, n_docs) = listingsAndReviews, 5555\n",
      "Database: sample_analytics\n",
      "(collection, n_docs) = transactions, 1746\n",
      "(collection, n_docs) = accounts, 1746\n",
      "(collection, n_docs) = customers, 500\n",
      "Database: sample_geospatial\n",
      "(collection, n_docs) = shipwrecks, 11095\n",
      "Database: sample_guides\n",
      "(collection, n_docs) = planets, 8\n",
      "Database: sample_mflix\n",
      "(collection, n_docs) = theaters, 1564\n",
      "(collection, n_docs) = movies, 23530\n",
      "(collection, n_docs) = sessions, 1\n",
      "(collection, n_docs) = users, 185\n",
      "(collection, n_docs) = comments, 41079\n",
      "Database: sample_restaurants\n",
      "(collection, n_docs) = restaurants, 25359\n",
      "(collection, n_docs) = neighborhoods, 195\n",
      "Database: sample_supplies\n",
      "(collection, n_docs) = sales, 5000\n",
      "Database: sample_training\n",
      "(collection, n_docs) = routes, 66985\n",
      "(collection, n_docs) = zips, 29470\n",
      "(collection, n_docs) = trips, 10000\n",
      "(collection, n_docs) = inspections, 80047\n",
      "(collection, n_docs) = posts, 500\n",
      "(collection, n_docs) = companies, 9500\n",
      "(collection, n_docs) = grades, 100000\n",
      "Database: sample_weatherdata\n",
      "(collection, n_docs) = data, 10000\n"
     ]
    }
   ],
   "source": [
    "for database in client.list_database_names():\n",
    "    if database not in [\"admin\", \"local\"]:\n",
    "        print(f\"Database: {database}\")\n",
    "        for collection in client[database].list_collection_names():\n",
    "            print(f\"(collection, n_docs) = {collection}, {client[database][collection].count_documents(filter={})}\")\n"
   ]
  },
  {
   "cell_type": "markdown",
   "metadata": {
    "tags": []
   },
   "source": [
    "### 1.4\n",
    "\n",
    "rubric={accuracy:1}"
   ]
  },
  {
   "cell_type": "markdown",
   "metadata": {},
   "source": [
    "The _Schema_ tab of the Compass application provides a nice schema analyzer tool that helps to quickly obtain summary information about collections in a database both visually and in text format.\n",
    "\n",
    "Suppose that we would like to find out how high-rated movies/TV series on _metacritic_ are rated on IMDB. Use the schema analyzer tool to find the distribution of the `imdb.rating` field for movies/TV series in the `sample_mflix` database that have a `metacritic` rating of greater than 90. Paste a screenshot of the distribution that you find here.\n",
    "\n",
    "**Hint:** There are 111 documents with a `metacritic` rating of greater than 90."
   ]
  },
  {
   "cell_type": "markdown",
   "metadata": {
    "tags": []
   },
   "source": []
  },
  {
   "cell_type": "markdown",
   "metadata": {
    "tags": []
   },
   "source": [
    "## Exercise 2: Basic MongoDB queries\n",
    "---"
   ]
  },
  {
   "cell_type": "markdown",
   "metadata": {
    "tags": []
   },
   "source": [
    "### 2.1\n",
    "\n",
    "rubric={accuracy:1}"
   ]
  },
  {
   "cell_type": "markdown",
   "metadata": {},
   "source": [
    "Retrieve one (random) document associated with some movie/TV series produced in 2015.\n",
    "\n",
    "You can use `.find_one()` method to do this, or use `.find()` but limit your results to 1 document."
   ]
  },
  {
   "cell_type": "code",
   "execution_count": 6,
   "metadata": {},
   "outputs": [
    {
     "data": {
      "text/plain": [
       "[{'_id': ObjectId('573a13adf29313caabd2b765'),\n",
       "  'plot': \"A new theme park is built on the original site of Jurassic Park. Everything is going well until the park's newest attraction--a genetically modified giant stealth killing machine--escapes containment and goes on a killing spree.\",\n",
       "  'genres': ['Action', 'Adventure', 'Sci-Fi'],\n",
       "  'runtime': 124,\n",
       "  'metacritic': 59,\n",
       "  'rated': 'PG-13',\n",
       "  'cast': ['Chris Pratt',\n",
       "   'Bryce Dallas Howard',\n",
       "   'Irrfan Khan',\n",
       "   \"Vincent D'Onofrio\"],\n",
       "  'num_mflix_comments': 0,\n",
       "  'poster': 'https://m.media-amazon.com/images/M/MV5BNzQ3OTY4NjAtNzM5OS00N2ZhLWJlOWUtYzYwZjNmOWRiMzcyXkEyXkFqcGdeQXVyMTMxODk2OTU@._V1_SY1000_SX677_AL_.jpg',\n",
       "  'title': 'Jurassic World',\n",
       "  'fullplot': '22 years after the original Jurassic Park failed, the new park (also known as Jurassic World) is open for business. After years of studying genetics the scientists on the park genetically engineer a new breed of dinosaur. When everything goes horribly wrong, will our heroes make it off the island?',\n",
       "  'languages': ['English'],\n",
       "  'released': datetime.datetime(2015, 6, 12, 0, 0),\n",
       "  'directors': ['Colin Trevorrow'],\n",
       "  'writers': ['Rick Jaffa (screenplay)',\n",
       "   'Amanda Silver (screenplay)',\n",
       "   'Colin Trevorrow (screenplay)',\n",
       "   'Derek Connolly (screenplay)',\n",
       "   'Rick Jaffa (story)',\n",
       "   'Amanda Silver (story)',\n",
       "   'Michael Crichton (characters)'],\n",
       "  'awards': {'wins': 0, 'nominations': 5, 'text': '5 nominations.'},\n",
       "  'lastupdated': '2015-09-11 00:21:41.630000000',\n",
       "  'year': 2015,\n",
       "  'imdb': {'rating': 7.3, 'votes': 252556, 'id': 369610},\n",
       "  'countries': ['USA', 'China'],\n",
       "  'type': 'movie'}]"
      ]
     },
     "execution_count": 6,
     "metadata": {},
     "output_type": "execute_result"
    }
   ],
   "source": [
    "list(\n",
    "    client['sample_mflix']['movies'].find(filter={'year' : 2015}, limit=1)\n",
    "\n",
    ")"
   ]
  },
  {
   "cell_type": "markdown",
   "metadata": {
    "tags": []
   },
   "source": [
    "### 2.2\n",
    "\n",
    "rubric={accuracy:1}"
   ]
  },
  {
   "cell_type": "markdown",
   "metadata": {},
   "source": [
    "Retrieve all TV series produced in 1995.\n",
    "\n",
    "> **Hint:** Inspect possible values for the `type` field."
   ]
  },
  {
   "cell_type": "code",
   "execution_count": 7,
   "metadata": {},
   "outputs": [
    {
     "data": {
      "text/plain": [
       "[{'_id': ObjectId('573a1399f29313caabceee5e'),\n",
       "  'plot': 'Captain Woodrow Call, now retired from the Rangers, is a bounty hunter. He is hired by an eastern rail baron to track down Joey Garza, a new kind of killer, only a boy, who kills from a ...',\n",
       "  'genres': ['Drama', 'Western'],\n",
       "  'runtime': 300,\n",
       "  'cast': ['James Garner', 'Sissy Spacek', 'Sam Shepard', 'Ned Beatty'],\n",
       "  'poster': 'https://m.media-amazon.com/images/M/MV5BMjA5MTc2NjU5NF5BMl5BanBnXkFtZTcwODUzNjUyMQ@@._V1_SY1000_SX677_AL_.jpg',\n",
       "  'title': 'Streets of Laredo',\n",
       "  'fullplot': \"Captain Woodrow Call, now retired from the Rangers, is a bounty hunter. He is hired by an eastern rail baron to track down Joey Garza, a new kind of killer, only a boy, who kills from a distance with a rifle. Joined by his old compadre Pea Eye, it is a long ride to south Texas and the Mexican side of the border, where the past, in the form of Maria Garza, Joey's mother, haunts Call.\",\n",
       "  'languages': ['English'],\n",
       "  'released': datetime.datetime(1995, 11, 12, 0, 0),\n",
       "  'awards': {'wins': 6,\n",
       "   'nominations': 2,\n",
       "   'text': 'Nominated for 2 Primetime Emmys. Another 4 wins & 2 nominations.'},\n",
       "  'lastupdated': '2015-08-28 01:03:59.767000000',\n",
       "  'year': 1995,\n",
       "  'imdb': {'rating': 7.4, 'votes': 1236, 'id': 112041},\n",
       "  'countries': ['USA'],\n",
       "  'type': 'series',\n",
       "  'tomatoes': {'viewer': {'rating': 3.6, 'numReviews': 188, 'meter': 54},\n",
       "   'dvd': datetime.datetime(2003, 9, 30, 0, 0),\n",
       "   'production': 'Cabin Fever Entertainment',\n",
       "   'lastUpdated': datetime.datetime(2015, 8, 13, 19, 20, 55)},\n",
       "  'num_mflix_comments': 0}]"
      ]
     },
     "execution_count": 7,
     "metadata": {},
     "output_type": "execute_result"
    }
   ],
   "source": [
    "list(\n",
    "    client['sample_mflix']['movies'].find(filter={'type':'series', 'year':1995}, limit=1)\n",
    ")"
   ]
  },
  {
   "cell_type": "markdown",
   "metadata": {
    "tags": []
   },
   "source": [
    "### 2.3\n",
    "\n",
    "rubric={accuracy:2}"
   ]
  },
  {
   "cell_type": "markdown",
   "metadata": {},
   "source": [
    "Retrieve the title and cast of movies/TV series produced in 2010, but limit your results to 5 documents.\n",
    "\n",
    "> **Note:** Don't forget to exclude the `_id` field from your returned documents.\n",
    "\n",
    "> **Note:** The exact returned documents returned by `pymongo` might be different in different sessions and on different computers. This is perfectly fine."
   ]
  },
  {
   "cell_type": "code",
   "execution_count": 8,
   "metadata": {},
   "outputs": [
    {
     "data": {
      "text/plain": [
       "[{'cast': ['èva Gèbor', 'Istvèn Znamenèk', 'èkos Horvèth', 'Lia Pokorny'],\n",
       "  'title': 'Pèl Adrienn'},\n",
       " {'title': 'In My Sleep',\n",
       "  'cast': ['Philip Winchester',\n",
       "   'Tim Draxl',\n",
       "   'Lacey Chabert',\n",
       "   'Abigail Spencer']},\n",
       " {'cast': ['James Badge Dale',\n",
       "   'Joseph Mazzello',\n",
       "   'Jon Seda',\n",
       "   'Sebastian Bertoli'],\n",
       "  'title': 'The Pacific'},\n",
       " {'cast': ['Mandy Moore', 'Zachary Levi', 'Donna Murphy', 'Ron Perlman'],\n",
       "  'title': 'Tangled'},\n",
       " {'cast': ['Nikita Mikhalkov',\n",
       "   'Oleg Menshikov',\n",
       "   'Nadezhda Mikhalkova',\n",
       "   'Sergey Makovetskiy'],\n",
       "  'title': 'Utomlyonnye solntsem 2: Predstoyanie'}]"
      ]
     },
     "execution_count": 8,
     "metadata": {},
     "output_type": "execute_result"
    }
   ],
   "source": [
    "list(\n",
    "    client['sample_mflix']['movies'].find(filter={'year':2010}, \n",
    "                                         projection={'title': 1, 'cast':1, '_id':0},\n",
    "                                        limit=5)\n",
    ")"
   ]
  },
  {
   "cell_type": "markdown",
   "metadata": {
    "tags": []
   },
   "source": [
    "### 2.4\n",
    "\n",
    "rubric={accuracy:2}"
   ]
  },
  {
   "cell_type": "markdown",
   "metadata": {},
   "source": [
    "Retrieve the top 15 movies produced in 2010 that have the longest duration. Exclude TV series from your results. The returned documents should only contain the `title` and `runtime` fields (exclude the `_id` field).\n",
    "\n",
    "> **Note:** It's ok if your results contain duplicate movies."
   ]
  },
  {
   "cell_type": "code",
   "execution_count": 9,
   "metadata": {},
   "outputs": [
    {
     "data": {
      "text/plain": [
       "[{'runtime': 272, 'title': 'Mysteries of Lisbon'},\n",
       " {'runtime': 240, 'title': 'Never Sleep Again: The Elm Street Legacy'},\n",
       " {'runtime': 181, 'title': 'Utomlyonnye solntsem 2: Predstoyanie'},\n",
       " {'runtime': 181, 'title': 'Aurora'},\n",
       " {'runtime': 180, 'title': 'Thorne: Sleepyhead'},\n",
       " {'runtime': 180, 'title': 'The Autobiography of Nicolae Ceausescu'},\n",
       " {'runtime': 178, 'title': 'Riverworld'},\n",
       " {'runtime': 174, 'title': 'Enthiran'},\n",
       " {'runtime': 170, 'title': 'Khaleja'},\n",
       " {'runtime': 170, 'title': 'We Believed'},\n",
       " {'title': 'My Name Is Khan', 'runtime': 165},\n",
       " {'runtime': 163, 'title': 'Raajneeti'},\n",
       " {'runtime': 163, 'title': 'Moss'},\n",
       " {'runtime': 160, 'title': 'Singam'},\n",
       " {'runtime': 159, 'title': 'Black Venus'}]"
      ]
     },
     "execution_count": 9,
     "metadata": {},
     "output_type": "execute_result"
    }
   ],
   "source": [
    "\n",
    "list(\n",
    "    client['sample_mflix']['movies'].find(\n",
    "        filter={'year': 2010, 'type':'movie'},\n",
    "        projection={'_id': 0, 'title': 1, 'runtime': 1},\n",
    "        limit=15,\n",
    "        sort=[('runtime', -1)]\n",
    "    )\n",
    ")"
   ]
  },
  {
   "cell_type": "markdown",
   "metadata": {
    "tags": []
   },
   "source": [
    "### 2.5\n",
    "\n",
    "rubric={accuracy:2}"
   ]
  },
  {
   "cell_type": "markdown",
   "metadata": {},
   "source": [
    "For each year between 2010 and 2015 (inclusive), return the number of movies/TV series with a metacritic rating of exactly 90. Your results should look like this:\n",
    "\n",
    "```\n",
    "2010: 2\n",
    "2011: 2\n",
    "2012: 1\n",
    "2013: 2\n",
    "2014: 1\n",
    "2015: 3\n",
    "```"
   ]
  },
  {
   "cell_type": "code",
   "execution_count": 10,
   "metadata": {},
   "outputs": [
    {
     "name": "stdout",
     "output_type": "stream",
     "text": [
      "2010: 2\n",
      "2011: 2\n",
      "2012: 1\n",
      "2013: 2\n",
      "2014: 1\n",
      "2015: 3\n"
     ]
    }
   ],
   "source": [
    "for y in range(2010,2016):\n",
    "    count = client['sample_mflix']['movies'].count_documents(filter={'year':y, 'metacritic' : 90})\n",
    "    print(str(y) + ': ' + str(count))"
   ]
  },
  {
   "cell_type": "code",
   "execution_count": 11,
   "metadata": {},
   "outputs": [
    {
     "data": {
      "text/plain": [
       "[{'_id': 'movie', 'count_each_type': 23276},\n",
       " {'_id': 'series', 'count_each_type': 254}]"
      ]
     },
     "execution_count": 11,
     "metadata": {},
     "output_type": "execute_result"
    }
   ],
   "source": [
    "list(\n",
    "    client[\"sample_mflix\"][\"movies\"].aggregate(\n",
    "        [\n",
    "            {'$group': {\n",
    "                '_id': '$type',\n",
    "                'count_each_type': {'$sum': 1}\n",
    "            }}\n",
    "        ]\n",
    "    )\n",
    ")"
   ]
  },
  {
   "cell_type": "markdown",
   "metadata": {
    "tags": []
   },
   "source": [
    "### 2.6\n",
    "\n",
    "rubric={accuracy:2}"
   ]
  },
  {
   "cell_type": "markdown",
   "metadata": {},
   "source": [
    "Retrieve the title and runtime of the 10 shortest movies in the `movies` collection.\n",
    "\n",
    "For this exercise, you need to make sure that the field `runtime` exists in the returned documents, otherwise by default those documents would appear first which don't have a `runtime` field at all!\n",
    "\n",
    "> **Hint:** You need the `$exists` operator (see [here](https://docs.mongodb.com/manual/reference/operator/query/exists/) for help)."
   ]
  },
  {
   "cell_type": "code",
   "execution_count": 12,
   "metadata": {},
   "outputs": [
    {
     "data": {
      "text/plain": [
       "[{'runtime': 1, 'title': 'Neko no shukai'},\n",
       " {'runtime': 1, 'title': 'Newark Athlete'},\n",
       " {'runtime': 1, 'title': 'Blacksmith Scene'},\n",
       " {'runtime': 1, 'title': 'The Kiss'},\n",
       " {'runtime': 1, 'title': 'Dickson Experimental Sound Film'},\n",
       " {'runtime': 1, 'title': 'The Kiss'},\n",
       " {'runtime': 2, 'title': 'Andrè and Wally B.'},\n",
       " {'runtime': 2, 'title': 'Luxo Jr.'},\n",
       " {'runtime': 2, 'title': 'Game Over'},\n",
       " {'runtime': 2, 'title': 'Fresh Guacamole'}]"
      ]
     },
     "execution_count": 12,
     "metadata": {},
     "output_type": "execute_result"
    }
   ],
   "source": [
    "\n",
    "list(\n",
    "    client['sample_mflix']['movies'].find(\n",
    "        filter={'type':'movie',\n",
    "               'runtime': {'$exists':True}},\n",
    "        projection={'_id': 0, 'title': 1, 'runtime': 1},\n",
    "        limit=10,\n",
    "        sort=[('runtime', 1)]\n",
    "    )\n",
    ")"
   ]
  },
  {
   "cell_type": "markdown",
   "metadata": {
    "tags": []
   },
   "source": [
    "### 2.7\n",
    "\n",
    "rubric={accuracy:2}"
   ]
  },
  {
   "cell_type": "markdown",
   "metadata": {},
   "source": [
    "Retrieve documents for movies/TV series whose title contains two digits at the end, separated by a space (e.g. \"Apollo 13\").\n",
    "\n",
    "- Your results should only contain the `title` and `year` fields\n",
    "- Sort the documents first by production year in descending order, and then alphabetically by title in ascending order.\n",
    "- Limit your results to 15 documents.\n",
    "\n",
    "> **Note:** It's ok if your results contain duplicates."
   ]
  },
  {
   "cell_type": "code",
   "execution_count": 13,
   "metadata": {},
   "outputs": [
    {
     "data": {
      "text/plain": [
       "[{'title': 'Zone 39', 'year': 1996},\n",
       " {'title': 'Your Life in 65', 'year': 2006},\n",
       " {'title': 'Ward 13', 'year': 2003},\n",
       " {'title': 'United 93', 'year': 2006},\n",
       " {'title': 'Truth in 24', 'year': 2008},\n",
       " {'title': 'Track 29', 'year': 1988},\n",
       " {'title': 'Torremolinos 73', 'year': 2003},\n",
       " {'title': 'Tony 10', 'year': 2012},\n",
       " {'title': 'This Is 40', 'year': 2012},\n",
       " {'title': 'The Perfect 46', 'year': 2014},\n",
       " {'title': 'The Number 23', 'year': 2007},\n",
       " {'title': 'The 33', 'year': 2015},\n",
       " {'title': 'Symphony No. 42', 'year': 2014},\n",
       " {'year': 2012, 'title': 'Storage 24'},\n",
       " {'year': 2006, 'title': 'Starter for 10'}]"
      ]
     },
     "execution_count": 13,
     "metadata": {},
     "output_type": "execute_result"
    }
   ],
   "source": [
    "list(\n",
    "    client['sample_mflix']['movies'].find(\n",
    "        filter={'title':{'$regex' : ' \\d{2}$'}},\n",
    "        projection={'_id': 0, 'title': 1, 'year': 1},\n",
    "        limit=15,\n",
    "        sort=[('title', -1), ('year', 1)]\n",
    "    )\n",
    ")"
   ]
  },
  {
   "cell_type": "markdown",
   "metadata": {
    "tags": []
   },
   "source": [
    "## Exercise 3: Conditionals, embedded documents & arrays\n",
    "---"
   ]
  },
  {
   "cell_type": "markdown",
   "metadata": {
    "tags": []
   },
   "source": [
    "### 3.1\n",
    "\n",
    "rubric={accuracy:2}"
   ]
  },
  {
   "cell_type": "markdown",
   "metadata": {},
   "source": [
    "Retrieve the title, production year, and number of awards of all movies that\n",
    "\n",
    "- have been produced between 1950 and 2000 (inclusive)\n",
    "- have an IMDB rating of 8.5 or better\n",
    "- won at least 30 awards.\n",
    "\n",
    "Sort the results by production year in descending order."
   ]
  },
  {
   "cell_type": "code",
   "execution_count": 14,
   "metadata": {},
   "outputs": [
    {
     "data": {
      "text/plain": [
       "[{'year': 2000, 'title': 'Gladiator', 'awards': {'wins': 63}},\n",
       " {'year': 2000, 'title': 'Memento', 'awards': {'wins': 54}},\n",
       " {'year': 1999, 'title': 'The Matrix', 'awards': {'wins': 37}},\n",
       " {'year': 1998, 'title': 'Saving Private Ryan', 'awards': {'wins': 83}},\n",
       " {'year': 1997, 'title': 'Life Is Beautiful', 'awards': {'wins': 66}},\n",
       " {'title': 'Life Is Beautiful', 'awards': {'wins': 66}, 'year': 1997},\n",
       " {'year': 1995, 'title': 'Se7en', 'awards': {'wins': 32}},\n",
       " {'year': 1995, 'title': 'The Usual Suspects', 'awards': {'wins': 36}},\n",
       " {'year': 1994, 'title': 'Forrest Gump', 'awards': {'wins': 46}},\n",
       " {'year': 1994, 'title': 'Pulp Fiction', 'awards': {'wins': 64}},\n",
       " {'title': \"Schindler's List\", 'awards': {'wins': 81}, 'year': 1993},\n",
       " {'year': 1991, 'title': 'The Silence of the Lambs', 'awards': {'wins': 56}},\n",
       " {'year': 1990, 'title': 'Goodfellas', 'awards': {'wins': 43}},\n",
       " {'year': 1981, 'title': 'Raiders of the Lost Ark', 'awards': {'wins': 32}},\n",
       " {'year': 1977,\n",
       "  'title': 'Star Wars: Episode IV - A New Hope',\n",
       "  'awards': {'wins': 44}},\n",
       " {'year': 1975,\n",
       "  'title': \"One Flew Over the Cuckoo's Nest\",\n",
       "  'awards': {'wins': 36}},\n",
       " {'year': 1972, 'title': 'The Godfather', 'awards': {'wins': 33}}]"
      ]
     },
     "execution_count": 14,
     "metadata": {},
     "output_type": "execute_result"
    }
   ],
   "source": [
    "list(\n",
    "    client[\"sample_mflix\"][\"movies\"].find(\n",
    "        filter={\n",
    "            '$and': [   \n",
    "                {'year': {'$gte' : 1950, '$lte' : 2000}},\n",
    "                {'imdb.rating' : {'$gte' : 8.5}},\n",
    "                {'awards.wins': {'$gte' : 30}}\n",
    "            ]\n",
    "        },\n",
    "        projection={\"_id\": 0, \"title\" : 1, \"year\": 1, \"awards.wins\":1},\n",
    "        sort=[('year', -1)]\n",
    "    )\n",
    ")"
   ]
  },
  {
   "cell_type": "markdown",
   "metadata": {
    "tags": []
   },
   "source": [
    "### 3.2\n",
    "\n",
    "rubric={accuracy:2}"
   ]
  },
  {
   "cell_type": "markdown",
   "metadata": {},
   "source": [
    "Find the top 15 highest-rated movies according to IMDB for movies that have at least 100,000 votes. Your returned documents should only contain the `title`, `year`, and `imdb.rating` fields.\n",
    "\n",
    "> **Hint:** Be careful about documents which have a blank space in their `imdb.rating` field!\n",
    "\n",
    "> **Note:** It's ok if your results contain duplicates. Return 15 documents in any case."
   ]
  },
  {
   "cell_type": "code",
   "execution_count": 15,
   "metadata": {},
   "outputs": [
    {
     "data": {
      "text/plain": [
       "[{'title': 'Band of Brothers', 'year': 2001, 'imdb': {'rating': 9.6}},\n",
       " {'imdb': {'rating': 9.3}, 'year': 1994, 'title': 'The Shawshank Redemption'},\n",
       " {'imdb': {'rating': 9.3}, 'year': 1994, 'title': 'The Shawshank Redemption'},\n",
       " {'imdb': {'rating': 9.2}, 'year': 1972, 'title': 'The Godfather'},\n",
       " {'imdb': {'rating': 9.1}, 'year': 1974, 'title': 'The Godfather: Part II'},\n",
       " {'imdb': {'rating': 9.0}, 'year': 2008, 'title': 'The Dark Knight'},\n",
       " {'title': \"Schindler's List\", 'year': 1993, 'imdb': {'rating': 8.9}},\n",
       " {'imdb': {'rating': 8.9},\n",
       "  'year': 2003,\n",
       "  'title': 'The Lord of the Rings: The Return of the King'},\n",
       " {'imdb': {'rating': 8.9}, 'year': 1994, 'title': 'Pulp Fiction'},\n",
       " {'title': '12 Angry Men', 'year': 1957, 'imdb': {'rating': 8.9}},\n",
       " {'imdb': {'rating': 8.9},\n",
       "  'year': 1966,\n",
       "  'title': 'The Good, the Bad and the Ugly'},\n",
       " {'imdb': {'rating': 8.9}, 'year': 1999, 'title': 'Fight Club'},\n",
       " {'imdb': {'rating': 8.8},\n",
       "  'year': 2001,\n",
       "  'title': 'The Lord of the Rings: The Fellowship of the Ring'},\n",
       " {'imdb': {'rating': 8.8},\n",
       "  'year': 1980,\n",
       "  'title': 'Star Wars: Episode V - The Empire Strikes Back'},\n",
       " {'imdb': {'rating': 8.8}, 'year': 1994, 'title': 'Forrest Gump'}]"
      ]
     },
     "execution_count": 15,
     "metadata": {},
     "output_type": "execute_result"
    }
   ],
   "source": [
    "list(\n",
    "    client[\"sample_mflix\"][\"movies\"].find(\n",
    "        filter={\n",
    "            '$and': [   \n",
    "                {'imdb.votes': {'$gte' : 100000}},\n",
    "                {'imdb.rating' : {'$exists' : True}},\n",
    "            ]\n",
    "        },\n",
    "        projection={\"_id\": 0, \"title\" : 1, \"year\": 1, \"imdb.rating\":1},\n",
    "        limit=15,\n",
    "        sort=[('imdb.rating', -1)]\n",
    "    )\n",
    ")"
   ]
  },
  {
   "cell_type": "markdown",
   "metadata": {
    "tags": []
   },
   "source": [
    "### 3.3\n",
    "\n",
    "rubric={accuracy:2}"
   ]
  },
  {
   "cell_type": "markdown",
   "metadata": {},
   "source": [
    "There is one **thriller** movie in the `movies` collection which has a single digit within a word in its title (e.g. \"one2one\"). Return the document associated with that movie. Only include the `title`, `year`, `genres`, and `cast` fields."
   ]
  },
  {
   "cell_type": "code",
   "execution_count": 16,
   "metadata": {},
   "outputs": [
    {
     "data": {
      "text/plain": [
       "[{'year': 1995, 'genres': ['Drama', 'Mystery', 'Thriller'], 'title': 'Se7en'}]"
      ]
     },
     "execution_count": 16,
     "metadata": {},
     "output_type": "execute_result"
    }
   ],
   "source": [
    "list(\n",
    "    client[\"sample_mflix\"][\"movies\"].find(\n",
    "        filter= {\n",
    "            'genres': 'Thriller',\n",
    "            'title' : {'$regex' : '[a-zA-Z]+\\d{1}[a-zA-Z]+'}\n",
    "        },\n",
    "        projection={\"_id\": 0, \"title\" : 1, \"year\": 1, \"genres\":1}\n",
    "    )\n",
    ")"
   ]
  },
  {
   "cell_type": "markdown",
   "metadata": {
    "tags": []
   },
   "source": [
    "### 3.4\n",
    "\n",
    "rubric={accuracy:1}"
   ]
  },
  {
   "cell_type": "markdown",
   "metadata": {},
   "source": [
    "Retrieve the title, production year, and IMDB rating of movies in which both **Morgan Freeman** and **Clint Eastwood** played a role (among other actors in those movies). Sort the returned documents by year in descending order."
   ]
  },
  {
   "cell_type": "code",
   "execution_count": 17,
   "metadata": {},
   "outputs": [
    {
     "data": {
      "text/plain": [
       "[{'imdb': {'rating': 8.3}, 'title': 'Unforgiven'},\n",
       " {'imdb': {'rating': 8.1}, 'title': 'Million Dollar Baby'}]"
      ]
     },
     "execution_count": 17,
     "metadata": {},
     "output_type": "execute_result"
    }
   ],
   "source": [
    "list(\n",
    "    client[\"sample_mflix\"][\"movies\"].find(\n",
    "        filter={\n",
    "            'cast': {'$all': ['Morgan Freeman', 'Clint Eastwood']}\n",
    "        },\n",
    "        projection={'_id': 0, 'title': 1, 'imdb.rating': 1},\n",
    "        sort=[('year', 1)]\n",
    "    )\n",
    ")"
   ]
  },
  {
   "cell_type": "markdown",
   "metadata": {
    "tags": []
   },
   "source": [
    "### 3.5\n",
    "\n",
    "rubric={accuracy:3}"
   ]
  },
  {
   "cell_type": "markdown",
   "metadata": {},
   "source": [
    "Retrieve documents associated with movies which:\n",
    "\n",
    "- are available in both German and French (among other languages), but not in English,\n",
    "- are either rated above 8 according to IMDB, or above 7.5 according to the critic ratings of [Rotten Tomatoes](https://www.rottentomatoes.com/) (inspect the `tomatoes` field),\n",
    "- have at least 50 Rotten Tomatoes critic reviews.\n",
    "\n",
    "The returned documents should include the title, year, IMDB rating, Rotten Tomatoes critic rating and country of production fields. Sort the results by IMDB rating in descending order.\n",
    "\n",
    "**Note:** Duplicates in the results are ok."
   ]
  },
  {
   "cell_type": "code",
   "execution_count": 20,
   "metadata": {},
   "outputs": [
    {
     "data": {
      "text/plain": [
       "[{'_id': ObjectId('573a1394f29313caabce095d'),\n",
       "  'fullplot': 'Florence Carala and her lover Julien Tavernier, an ex - paratrooper want to murder her husband by faking a suicide. But after Julien has killed him and he puts his things in his car, he finds he has forgotten the rope outside the window and he returns to the building to remove it...',\n",
       "  'imdb': {'rating': 8.0, 'votes': 12431, 'id': 51378},\n",
       "  'year': 1958,\n",
       "  'plot': 'A self-assured business man murders his employer, the husband of his mistress, which unintentionally provokes an ill-fated chain of events.',\n",
       "  'genres': ['Crime', 'Drama', 'Thriller'],\n",
       "  'rated': 'NOT RATED',\n",
       "  'metacritic': 92,\n",
       "  'title': 'Elevator to the Gallows',\n",
       "  'lastupdated': '2015-08-30 00:23:59.180000000',\n",
       "  'languages': ['French', 'German'],\n",
       "  'writers': ['Roger Nimier (adaptation)',\n",
       "   'Louis Malle (adaptation)',\n",
       "   'Roger Nimier (dialogue)',\n",
       "   'Noèl Calef (novel)',\n",
       "   'Noèl Calef (pre-adaptation)'],\n",
       "  'type': 'movie',\n",
       "  'tomatoes': {'viewer': {'rating': 4.2, 'numReviews': 5789, 'meter': 91},\n",
       "   'dvd': datetime.datetime(2006, 4, 25, 0, 0),\n",
       "   'critic': {'rating': 8.1, 'numReviews': 50, 'meter': 92},\n",
       "   'lastUpdated': datetime.datetime(2015, 9, 10, 19, 11, 17),\n",
       "   'rotten': 4,\n",
       "   'production': 'Rialto Pictures',\n",
       "   'fresh': 46},\n",
       "  'poster': 'https://m.media-amazon.com/images/M/MV5BODk4MTkxMDE1Ml5BMl5BanBnXkFtZTgwNjE0NjEzOTE@._V1_SY1000_SX677_AL_.jpg',\n",
       "  'num_mflix_comments': 0,\n",
       "  'released': datetime.datetime(1958, 1, 29, 0, 0),\n",
       "  'awards': {'wins': 1, 'nominations': 0, 'text': '1 win.'},\n",
       "  'countries': ['France'],\n",
       "  'cast': ['Jeanne Moreau',\n",
       "   'Maurice Ronet',\n",
       "   'Georges Poujouly',\n",
       "   'Yori Bertin'],\n",
       "  'directors': ['Louis Malle'],\n",
       "  'runtime': 91},\n",
       " {'_id': ObjectId('573a13bff29313caabd5e0fd'),\n",
       "  'plot': 'The relationship between a father and daughter is complicated by the arrival of a handsome young man.',\n",
       "  'genres': ['Drama'],\n",
       "  'runtime': 100,\n",
       "  'metacritic': 92,\n",
       "  'rated': 'UNRATED',\n",
       "  'cast': ['Alex Descas', 'Mati Diop', 'Nicole Doguè', 'Grègoire Colin'],\n",
       "  'poster': 'https://m.media-amazon.com/images/M/MV5BOTU5ZWZjODctYWY0My00M2U5LWE2NWUtMjRlMjZjNTAwYWIzXkEyXkFqcGdeQXVyNDkzNTM2ODg@._V1_SY1000_SX677_AL_.jpg',\n",
       "  'title': '35 Shots of Rum',\n",
       "  'fullplot': 'The relationship between a father and daughter is complicated by the arrival of a handsome young man.',\n",
       "  'languages': ['French', 'German'],\n",
       "  'released': datetime.datetime(2009, 2, 18, 0, 0),\n",
       "  'directors': ['Claire Denis'],\n",
       "  'writers': ['Claire Denis (scenario)', 'Jean-Pol Fargeau (scenario)'],\n",
       "  'awards': {'wins': 3, 'nominations': 9, 'text': '3 wins & 9 nominations.'},\n",
       "  'lastupdated': '2015-09-02 00:32:10.117000000',\n",
       "  'year': 2008,\n",
       "  'imdb': {'rating': 7.1, 'votes': 2919, 'id': 1100048},\n",
       "  'countries': ['France', 'Germany'],\n",
       "  'type': 'movie',\n",
       "  'tomatoes': {'viewer': {'rating': 3.5, 'numReviews': 1351, 'meter': 64},\n",
       "   'dvd': datetime.datetime(2010, 4, 20, 0, 0),\n",
       "   'critic': {'rating': 8.1, 'numReviews': 59, 'meter': 97},\n",
       "   'lastUpdated': datetime.datetime(2015, 7, 29, 18, 32, 42),\n",
       "   'consensus': 'This slow-moving French family drama is rich, complex, subtle and emotionally eloquent.',\n",
       "   'rotten': 2,\n",
       "   'production': 'Cinèart',\n",
       "   'fresh': 57},\n",
       "  'num_mflix_comments': 0},\n",
       " {'_id': ObjectId('573a13d5f29313caabd9c1bc'),\n",
       "  'fullplot': \"Jiro dreams of flying and designing beautiful airplanes, inspired by the famous Italian aeronautical designer Caproni. Nearsighted from a young age and unable to be a pilot, Jiro joins a major Japanese engineering company in 1927 and becomes one of the world's most innovative and accomplished airplane designers. The film chronicles much of his life, depicting key historical events, including the Great Kanto Earthquake of 1923, the Great Depression, the tuberculosis epidemic and Japan's plunge into war. Jiro meets and falls in love with Nahoko, and grows and cherishes his friendship with his colleague Honjo.\",\n",
       "  'imdb': {'rating': 7.8, 'votes': 34921, 'id': 2013293},\n",
       "  'year': 2013,\n",
       "  'plot': 'A look at the life of Jiro Horikoshi, the man who designed Japanese fighter planes during World War II.',\n",
       "  'genres': ['Animation', 'Biography', 'Drama'],\n",
       "  'rated': 'PG-13',\n",
       "  'metacritic': 83,\n",
       "  'title': 'The Wind Rises',\n",
       "  'lastupdated': '2015-09-13 00:17:46.493000000',\n",
       "  'languages': ['Japanese', 'German', 'Italian', 'French'],\n",
       "  'writers': ['Hayao Miyazaki (comic)',\n",
       "   'Hayao Miyazaki (screenplay)',\n",
       "   'Mike Jones (screenplay)'],\n",
       "  'type': 'movie',\n",
       "  'tomatoes': {'website': 'http://thewindrisesmovie.tumblr.com/',\n",
       "   'viewer': {'rating': 4.1, 'numReviews': 21368, 'meter': 85},\n",
       "   'dvd': datetime.datetime(2014, 11, 17, 0, 0),\n",
       "   'critic': {'rating': 7.9, 'numReviews': 158, 'meter': 89},\n",
       "   'boxOffice': '$5.2M',\n",
       "   'consensus': 'The Wind Rises is a fittingly bittersweet swan song for director Hayao Miyazaki.',\n",
       "   'rotten': 18,\n",
       "   'production': 'Walt Disney Pictures',\n",
       "   'lastUpdated': datetime.datetime(2015, 8, 22, 18, 4, 31),\n",
       "   'fresh': 140},\n",
       "  'poster': 'https://m.media-amazon.com/images/M/MV5BMTU4NDg0MzkzNV5BMl5BanBnXkFtZTgwODA3Mzc1MDE@._V1_SY1000_SX677_AL_.jpg',\n",
       "  'num_mflix_comments': 0,\n",
       "  'released': datetime.datetime(2014, 2, 21, 0, 0),\n",
       "  'awards': {'wins': 35,\n",
       "   'nominations': 38,\n",
       "   'text': 'Nominated for 1 Oscar. Another 34 wins & 38 nominations.'},\n",
       "  'countries': ['Japan'],\n",
       "  'cast': ['Hideaki Anno',\n",
       "   'Hidetoshi Nishijima',\n",
       "   'Miori Takimoto',\n",
       "   'Masahiko Nishimura'],\n",
       "  'directors': ['Hayao Miyazaki'],\n",
       "  'runtime': 126},\n",
       " {'_id': ObjectId('573a13daf29313caabdabead'),\n",
       "  'plot': 'A look at the life of Jiro Horikoshi, the man who designed Japanese fighter planes during World War II.',\n",
       "  'genres': ['Animation', 'Biography', 'Drama'],\n",
       "  'runtime': 126,\n",
       "  'metacritic': 83,\n",
       "  'rated': 'PG-13',\n",
       "  'cast': ['Hideaki Anno',\n",
       "   'Hidetoshi Nishijima',\n",
       "   'Miori Takimoto',\n",
       "   'Masahiko Nishimura'],\n",
       "  'poster': 'https://m.media-amazon.com/images/M/MV5BMTU4NDg0MzkzNV5BMl5BanBnXkFtZTgwODA3Mzc1MDE@._V1_SY1000_SX677_AL_.jpg',\n",
       "  'title': 'The Wind Rises',\n",
       "  'fullplot': \"Jiro dreams of flying and designing beautiful airplanes, inspired by the famous Italian aeronautical designer Caproni. Nearsighted from a young age and unable to be a pilot, Jiro joins a major Japanese engineering company in 1927 and becomes one of the world's most innovative and accomplished airplane designers. The film chronicles much of his life, depicting key historical events, including the Great Kanto Earthquake of 1923, the Great Depression, the tuberculosis epidemic and Japan's plunge into war. Jiro meets and falls in love with Nahoko, and grows and cherishes his friendship with his colleague Honjo.\",\n",
       "  'languages': ['Japanese', 'German', 'Italian', 'French'],\n",
       "  'released': datetime.datetime(2014, 2, 21, 0, 0),\n",
       "  'directors': ['Hayao Miyazaki'],\n",
       "  'writers': ['Hayao Miyazaki (comic)',\n",
       "   'Hayao Miyazaki (screenplay)',\n",
       "   'Mike Jones (screenplay)'],\n",
       "  'awards': {'wins': 35,\n",
       "   'nominations': 38,\n",
       "   'text': 'Nominated for 1 Oscar. Another 34 wins & 38 nominations.'},\n",
       "  'lastupdated': '2015-09-02 04:41:33.397000000',\n",
       "  'year': 2013,\n",
       "  'imdb': {'rating': 7.8, 'votes': 34579, 'id': 2013293},\n",
       "  'countries': ['Japan'],\n",
       "  'type': 'movie',\n",
       "  'tomatoes': {'website': 'http://thewindrisesmovie.tumblr.com/',\n",
       "   'viewer': {'rating': 4.1, 'numReviews': 21368, 'meter': 85},\n",
       "   'dvd': datetime.datetime(2014, 11, 17, 0, 0),\n",
       "   'critic': {'rating': 7.9, 'numReviews': 158, 'meter': 89},\n",
       "   'boxOffice': '$5.2M',\n",
       "   'consensus': 'The Wind Rises is a fittingly bittersweet swan song for director Hayao Miyazaki.',\n",
       "   'rotten': 18,\n",
       "   'production': 'Walt Disney Pictures',\n",
       "   'lastUpdated': datetime.datetime(2015, 8, 22, 18, 4, 31),\n",
       "   'fresh': 140},\n",
       "  'num_mflix_comments': 0}]"
      ]
     },
     "execution_count": 20,
     "metadata": {},
     "output_type": "execute_result"
    }
   ],
   "source": [
    "list(\n",
    "    client[\"sample_mflix\"][\"movies\"].find(\n",
    "        filter={\n",
    "            '$and' :\n",
    "            [{'languages' : { '$all' : ['German', 'French']}},\n",
    "             {'languages' : {'$nin' : ['English']}}\n",
    "            ],\n",
    "            '$or' : \n",
    "            [{'imdb.rating' : {'$gt' : 8}},\n",
    "             {'tomatoes.critic.rating' : { '$gt' : 7.5}}\n",
    "            ],\n",
    "            'tomatoes.critic.numReviews' : { '$gte' : 50}\n",
    "        },\n",
    "    )\n",
    ")"
   ]
  },
  {
   "cell_type": "markdown",
   "metadata": {
    "tags": []
   },
   "source": [
    "### 3.6\n",
    "\n",
    "rubric={accuracy:2}"
   ]
  },
  {
   "cell_type": "markdown",
   "metadata": {},
   "source": [
    "Find the title and production year of the top 20 award-winning movies which have **not** been produced in USA, Canada, UK, or Australia.\n",
    "\n",
    "**Note:** Duplicates are ok. Return 20 documents in any case."
   ]
  },
  {
   "cell_type": "code",
   "execution_count": null,
   "metadata": {},
   "outputs": [],
   "source": []
  },
  {
   "cell_type": "markdown",
   "metadata": {
    "tags": []
   },
   "source": [
    "## Exercise 4: Aggregation pipelines\n",
    "---"
   ]
  },
  {
   "cell_type": "markdown",
   "metadata": {},
   "source": [
    "For this exercise, my suggestion is for you to create your pipelines in Compass. Once you're happy with the results, you can use the \"Export pipeline code to language\" button (right next to the green SAVE button) to get the Python code for your pipeline, and use it here in the lab's Jupyter Notebook. One good thing about constructing pipelines in Compass is that you can also see intermediate results after each stage.\n",
    "\n",
    "If your comfortable with `pymongo`, feel free to write your pipelines directly here."
   ]
  },
  {
   "cell_type": "markdown",
   "metadata": {
    "tags": []
   },
   "source": [
    "### 4.1\n",
    "\n",
    "rubric={accuracy:2}"
   ]
  },
  {
   "cell_type": "markdown",
   "metadata": {},
   "source": [
    "Let's start by creating a simple pipeline that does a similar job as Exercise [3.6](#3.6):\n",
    "\n",
    "> Find the title and production year of the top 20 award-winning movies which have **not** been produced in USA, Canada, UK, or Australia.\n",
    "\n",
    "In addition, promote the `imdb.rating` subfield to show up as an independent field named `imdbRating` in the resulting documents.\n",
    "\n",
    "Don't forget to check if you get the same movies as in Exercise [3.6](#3.6)!"
   ]
  },
  {
   "cell_type": "code",
   "execution_count": null,
   "metadata": {},
   "outputs": [],
   "source": [
    "pipeline = [\n",
    "    { \"$match\": {\n",
    "        \"countries\": { \"$nin\": [\"USA\", \"Canada\", \"UK\", \"Australia\"] }\n",
    "    }},\n",
    "    { \"$sort\": { \"numAwards\": -1 }},\n",
    "    # limit to the top 20 movies\n",
    "    { \"$limit\": 20 },\n",
    "    # project only the title and production year\n",
    "    { \"$project\": {\n",
    "        \"title\": 1,\n",
    "        \"year\": 1\n",
    "    }}\n",
    "]\n",
    "\n",
    "# run the aggregation pipeline and store the results in a cursor\n",
    "cursor = db.movies.aggregate(pipeline)\n",
    "\n",
    "# iterate over the cursor and print the results\n",
    "for doc in cursor:\n",
    "    print(doc)\n"
   ]
  },
  {
   "cell_type": "markdown",
   "metadata": {
    "tags": []
   },
   "source": [
    "### 4.2\n",
    "\n",
    "rubric={reasoning:1}"
   ]
  },
  {
   "cell_type": "markdown",
   "metadata": {},
   "source": [
    "Does the order of stages in the previous question matter? Provide an example and explain why."
   ]
  },
  {
   "cell_type": "markdown",
   "metadata": {
    "tags": []
   },
   "source": [
    "_Your answer goes here_"
   ]
  },
  {
   "cell_type": "markdown",
   "metadata": {
    "tags": []
   },
   "source": [
    "### 4.3\n",
    "\n",
    "rubric={accuracy:2}"
   ]
  },
  {
   "cell_type": "markdown",
   "metadata": {},
   "source": [
    "Count the number of movies (not TV series) produced in the USA per year, in and after the year 2000. Sort your results by year in ascending order.\n",
    "\n",
    "Your results should look like this:\n",
    "\n",
    "```\n",
    "[{'_id': 2000, 'num_of_movies': 341},\n",
    " {'_id': 2001, 'num_of_movies': 318},\n",
    " {'_id': 2002, 'num_of_movies': 337},\n",
    ".\n",
    ".\n",
    ".\n",
    "]\n",
    "```"
   ]
  },
  {
   "cell_type": "code",
   "execution_count": null,
   "metadata": {},
   "outputs": [],
   "source": [
    "..."
   ]
  },
  {
   "cell_type": "markdown",
   "metadata": {
    "tags": []
   },
   "source": [
    "### 4.4\n",
    "\n",
    "rubric={accuracy:1}"
   ]
  },
  {
   "cell_type": "markdown",
   "metadata": {},
   "source": [
    "Can you make the output of the previous exercise look like this?\n",
    "\n",
    "```\n",
    "[{'num_of_movies': 341, 'prod_year': 2000},\n",
    " {'num_of_movies': 318, 'prod_year': 2001},\n",
    " {'num_of_movies': 337, 'prod_year': 2002},\n",
    ".\n",
    ".\n",
    ".\n",
    "]\n",
    "```\n",
    "\n",
    "**Note:** The order in which different fields appear in the results does not matter."
   ]
  },
  {
   "cell_type": "code",
   "execution_count": null,
   "metadata": {},
   "outputs": [],
   "source": [
    "..."
   ]
  },
  {
   "cell_type": "markdown",
   "metadata": {
    "tags": []
   },
   "source": [
    "### 4.5\n",
    "\n",
    "rubric={accuracy:2}"
   ]
  },
  {
   "cell_type": "markdown",
   "metadata": {},
   "source": [
    "Create an aggregation pipeline that lists the top 10 most common movie languages, along with the count of movies for each language. Sort your results based on the count in descending order.\n",
    "\n",
    "Your results should look like this:\n",
    "\n",
    "```\n",
    "[{'_id': 'English', 'num_of_movies': 16048},\n",
    " {'_id': 'French', 'num_of_movies': 2800},\n",
    " {'_id': 'Spanish', 'num_of_movies': 1787},\n",
    " .\n",
    " .\n",
    " .\n",
    " ]\n",
    " ```\n",
    " \n",
    "> **Hint:** Languages are listed in an array, so they need special treatment before grouping."
   ]
  },
  {
   "cell_type": "code",
   "execution_count": null,
   "metadata": {},
   "outputs": [],
   "source": [
    "..."
   ]
  },
  {
   "cell_type": "markdown",
   "metadata": {
    "tags": []
   },
   "source": [
    "### 4.6\n",
    "\n",
    "rubric={accuracy:3}"
   ]
  },
  {
   "cell_type": "markdown",
   "metadata": {},
   "source": [
    "Create an aggregation pipeline that lists the top 15 busiest directors along with the number of movies they have directed. Your pipeline should also return the average IMDB rating of the movies directed by each director, **rounded to 1 decimal digit**.\n",
    "\n",
    "Your results should look like this:\n",
    "\n",
    "```\n",
    "[{'_id': 'Woody Allen', 'num_of_movies': 40, 'avg_imdb_rating': 7.2},\n",
    " {'_id': 'John Ford', 'num_of_movies': 35, 'avg_imdb_rating': 7.2},\n",
    " {'_id': 'Takashi Miike', 'num_of_movies': 34, 'avg_imdb_rating': 6.9},\n",
    " .\n",
    " .\n",
    " .\n",
    " ]\n",
    "```\n",
    " \n",
    "> **Hint:** Directors are listed in an array, so they need special treatment before grouping.\n",
    "\n",
    "> **Hint:** You can use the `$round` operator in a projection stage to round the average IMDB rating values (see [here](https://docs.mongodb.com/manual/reference/operator/aggregation/round/) for help)."
   ]
  },
  {
   "cell_type": "code",
   "execution_count": null,
   "metadata": {},
   "outputs": [],
   "source": [
    "..."
   ]
  },
  {
   "cell_type": "markdown",
   "metadata": {
    "tags": []
   },
   "source": [
    "## Exercise 5: But I only speak SQL!\n",
    "---"
   ]
  },
  {
   "cell_type": "markdown",
   "metadata": {},
   "source": [
    "Recently, a software engineer has joined your team who is well-seasoned in SQL, but has never used MongoDB. Your supervisor knows that you've had some experience with MongoDB in the MDS program, so she asks you to help translate the SQL queries written by the new software engineer to MongoDB queries. Your MongoDB queries will be used in a NoSQL-based application developed by your company.\n",
    "\n",
    "In the following questions, imagine that each document is a row in a table, and each field represents a column. Also, imagine that in our hypothetical table, documents with array fields appear as multiple rows, each row having one of the array elements in that particular array field.\n",
    "\n",
    "Try to translate each SQL query to its equivalent MongoDB query as if your collection was a table (i.e. relation) in a relational database."
   ]
  },
  {
   "cell_type": "markdown",
   "metadata": {
    "tags": []
   },
   "source": [
    "### 5.1\n",
    "\n",
    "rubric={accuracy:3}"
   ]
  },
  {
   "cell_type": "markdown",
   "metadata": {},
   "source": [
    "```sql\n",
    "SELECT\n",
    "    countries, COUNT(*) AS count_movies\n",
    "FROM\n",
    "    movies\n",
    "WHERE\n",
    "    imdb_rating > 8\n",
    "GROUP BY\n",
    "    countries\n",
    "ORDER BY\n",
    "    count_movies DESC\n",
    "LIMIT\n",
    "    20\n",
    "```"
   ]
  },
  {
   "cell_type": "code",
   "execution_count": null,
   "metadata": {},
   "outputs": [],
   "source": [
    "..."
   ]
  },
  {
   "cell_type": "markdown",
   "metadata": {
    "tags": []
   },
   "source": [
    "### 5.2\n",
    "\n",
    "rubric={accuracy:2}"
   ]
  },
  {
   "cell_type": "markdown",
   "metadata": {},
   "source": [
    "```sql\n",
    "SELECT\n",
    "    directors, MAX(awards_wins) AS max_awards_wins\n",
    "FROM\n",
    "    movies\n",
    "GROUP BY\n",
    "    directors\n",
    "ORDER BY\n",
    "    max_awards_wins DESC\n",
    "LIMIT\n",
    "    10\n",
    "```"
   ]
  },
  {
   "cell_type": "code",
   "execution_count": null,
   "metadata": {},
   "outputs": [],
   "source": [
    "..."
   ]
  },
  {
   "cell_type": "markdown",
   "metadata": {
    "tags": []
   },
   "source": [
    "### 5.3\n",
    "\n",
    "Well, I don't feel good about making you think of NoSQL databases in terms of the relations, rows, and columns. But I really want to make it up to you, so I'm hoping you'll find this one funny:"
   ]
  },
  {
   "cell_type": "markdown",
   "metadata": {},
   "source": [
    "<img src=\"img/nosql_cartoon.jpeg\" width=\"600\">\n",
    "\n",
    "([image source](https://www.deviantart.com/harshadpd/art/Relational-Issues-719533744))"
   ]
  }
 ],
 "metadata": {
  "kernelspec": {
   "display_name": "Python 3 (ipykernel)",
   "language": "python",
   "name": "python3"
  },
  "language_info": {
   "codemirror_mode": {
    "name": "ipython",
    "version": 3
   },
   "file_extension": ".py",
   "mimetype": "text/x-python",
   "name": "python",
   "nbconvert_exporter": "python",
   "pygments_lexer": "ipython3",
   "version": "3.10.6"
  },
  "toc": {
   "base_numbering": 1,
   "nav_menu": {},
   "number_sections": false,
   "sideBar": true,
   "skip_h1_title": true,
   "title_cell": "Lecture Outline",
   "title_sidebar": "Contents",
   "toc_cell": true,
   "toc_position": {},
   "toc_section_display": true,
   "toc_window_display": true
  },
  "toc-autonumbering": false,
  "toc-showcode": false,
  "toc-showmarkdowntxt": false,
  "toc-showtags": false,
  "vscode": {
   "interpreter": {
    "hash": "020375d9aeeb41ded8500965dd92c25c8dda33f089c2e03c1c8153c8d5ece307"
   }
  }
 },
 "nbformat": 4,
 "nbformat_minor": 4
}
